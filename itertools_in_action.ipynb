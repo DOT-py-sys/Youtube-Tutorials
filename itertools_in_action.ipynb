{
 "cells": [
  {
   "cell_type": "markdown",
   "metadata": {},
   "source": [
    "## Python Itertools\n",
    "Similar Iterator building blocks <br>\n",
    "Inspired by iterator concepts from SML , Hashkell <br>\n",
    "Very fast and widely used in many areas of python development"
   ]
  },
  {
   "cell_type": "code",
   "execution_count": 121,
   "metadata": {},
   "outputs": [],
   "source": [
    "import itertools as itl"
   ]
  },
  {
   "cell_type": "code",
   "execution_count": 122,
   "metadata": {},
   "outputs": [
    {
     "data": {
      "text/plain": [
       "['__doc__',\n",
       " '__loader__',\n",
       " '__name__',\n",
       " '__package__',\n",
       " '__spec__',\n",
       " '_grouper',\n",
       " '_tee',\n",
       " '_tee_dataobject',\n",
       " 'accumulate',\n",
       " 'chain',\n",
       " 'combinations',\n",
       " 'combinations_with_replacement',\n",
       " 'compress',\n",
       " 'count',\n",
       " 'cycle',\n",
       " 'dropwhile',\n",
       " 'filterfalse',\n",
       " 'groupby',\n",
       " 'islice',\n",
       " 'permutations',\n",
       " 'product',\n",
       " 'repeat',\n",
       " 'starmap',\n",
       " 'takewhile',\n",
       " 'tee',\n",
       " 'zip_longest']"
      ]
     },
     "execution_count": 122,
     "metadata": {},
     "output_type": "execute_result"
    }
   ],
   "source": [
    "dir(itl)"
   ]
  },
  {
   "cell_type": "markdown",
   "metadata": {},
   "source": [
    "### Accumulate elements of an iterator \n",
    "Make an iterator that returns accumulated sums, or accumulated results of other binary functions <br>\n",
    "If func is supplied, it should be a function of two arguments. <br> \n",
    "Elements of the input iterable may be any type that can be accepted as arguments to func."
   ]
  },
  {
   "cell_type": "markdown",
   "metadata": {},
   "source": [
    "### <font color=red> itertools.accumulate(iterable, func, *, initial=None) <font>    "
   ]
  },
  {
   "cell_type": "code",
   "execution_count": 123,
   "metadata": {},
   "outputs": [
    {
     "name": "stdout",
     "output_type": "stream",
     "text": [
      "[1, 3, 6, 10]\n",
      "[1, 3, 6, 10]\n",
      "[1, 3, 6, 10]\n"
     ]
    }
   ],
   "source": [
    "test1 = [1,2,3,4]\n",
    "test2 = (1,2,3,4)\n",
    "test3 = {1,2,3,4}\n",
    "print(list(itl.accumulate(test1)))\n",
    "print(list(itl.accumulate(test2)))\n",
    "print(list(itl.accumulate(test3)))"
   ]
  },
  {
   "cell_type": "code",
   "execution_count": 124,
   "metadata": {},
   "outputs": [
    {
     "name": "stdout",
     "output_type": "stream",
     "text": [
      "[1, 2, 3, 4]\n",
      "[15, 15, 30, 90, 360]\n"
     ]
    }
   ],
   "source": [
    "# now we will use an function in input\n",
    "import operator\n",
    "print(test1)\n",
    "print(list(itl.accumulate(test1,operator.mul,initial=15)))\n",
    "#now its obvious that if we use an initial value ,output will have once extra element"
   ]
  },
  {
   "cell_type": "code",
   "execution_count": 125,
   "metadata": {},
   "outputs": [
    {
     "data": {
      "text/plain": [
       "[1000, 960.0, 918.0, 873.9000000000001, 827.5950000000001]"
      ]
     },
     "execution_count": 125,
     "metadata": {},
     "output_type": "execute_result"
    }
   ],
   "source": [
    "data = [3, 4, 6, 2, 1, 9, 0, 7, 5, 8]\n",
    "list(itl.accumulate(data, max))\n",
    "cashflows = [1000, -90, -90, -90, -90]\n",
    "list(itl.accumulate(cashflows, lambda bal, pmt: bal*1.05 + pmt))"
   ]
  },
  {
   "cell_type": "markdown",
   "metadata": {},
   "source": [
    "### Chain in iterator \n",
    "Make an iterator that returns elements from the first iterable until it is exhausted <br> \n",
    "then proceeds to the next iterable, until all of the iterables are exhausted\n",
    "\n",
    "### <font color=red> itertools.chain(*iterables) <font>   "
   ]
  },
  {
   "cell_type": "code",
   "execution_count": 126,
   "metadata": {},
   "outputs": [
    {
     "name": "stdout",
     "output_type": "stream",
     "text": [
      "('d', 'o', 't', 'p', 'y')\n",
      "[1, 2, 3, 4, 5, 6]\n"
     ]
    }
   ],
   "source": [
    "print(tuple(itl.chain('dot','py')))\n",
    "print(list(itl.chain([1,2,3],[4,5,6])))"
   ]
  },
  {
   "cell_type": "code",
   "execution_count": 127,
   "metadata": {},
   "outputs": [],
   "source": [
    "# what chain do acctually \n",
    "def xxchain(*iterables):\n",
    "    # chain('ABC', 'DEF') --> A B C D E F\n",
    "    for it in iterables:\n",
    "        for element in it:\n",
    "            yield element"
   ]
  },
  {
   "cell_type": "code",
   "execution_count": 128,
   "metadata": {},
   "outputs": [
    {
     "data": {
      "text/plain": [
       "[1, 2, 3, 11]"
      ]
     },
     "execution_count": 128,
     "metadata": {},
     "output_type": "execute_result"
    }
   ],
   "source": [
    "list(xxchain([1,2,3],[11]))"
   ]
  },
  {
   "cell_type": "markdown",
   "metadata": {},
   "source": [
    "### <font color=red> itertools.chain.from_iterable(iterables) <font>   \n",
    "the main difference with chain is , it can not operate on strings , which are considered as dummy iterator in python"
   ]
  },
  {
   "cell_type": "code",
   "execution_count": 129,
   "metadata": {},
   "outputs": [],
   "source": [
    "def chain(*iterables):\n",
    "    # chain('ABC', 'DEF') --> A B C D E F\n",
    "    for it in iterables:\n",
    "        for element in it:\n",
    "            yield element"
   ]
  },
  {
   "cell_type": "markdown",
   "metadata": {},
   "source": [
    "### <font color=red> itertools.compress(data, selectors) <font>\n",
    "Make an iterator that filters elements from data returning only those that have a corresponding element in selectors that evaluates to True. <br> Stops when either the data or selectors iterables has been exhausted."
   ]
  },
  {
   "cell_type": "code",
   "execution_count": 130,
   "metadata": {},
   "outputs": [
    {
     "name": "stdout",
     "output_type": "stream",
     "text": [
      "['A', 'C', 'E', 'F']\n",
      "['A', 'C']\n"
     ]
    }
   ],
   "source": [
    "print(list(itl.compress('ABCDEF', [1,0,1,0,1,1])))\n",
    "print(list(itl.compress(['A','B','C'], [1,0,1,0,1,1])))"
   ]
  },
  {
   "cell_type": "markdown",
   "metadata": {},
   "source": [
    "### <font color=red> itertools.count(start=0, step=1) <font>\n",
    "Make an iterator that returns evenly spaced values starting with number start. <br> \n",
    "Often used as an argument to map() to generate consecutive data points. <br> \n",
    "Also, used with zip() to add sequence numbers. <br>\n",
    "count() creates an iterator object , dont indulge in a for loop with count directly <br>\n",
    "    \n",
    "#### These are infinite iterators "
   ]
  },
  {
   "cell_type": "code",
   "execution_count": 131,
   "metadata": {},
   "outputs": [],
   "source": [
    "def xxcount(start=0, step=1):\n",
    "    # count(10) --> 10 11 12 13 14 ...\n",
    "    # count(2.5, 0.5) -> 2.5 3.0 3.5 ...\n",
    "    n = start\n",
    "    while True:\n",
    "        yield n\n",
    "        n += step"
   ]
  },
  {
   "cell_type": "code",
   "execution_count": 132,
   "metadata": {},
   "outputs": [
    {
     "data": {
      "text/plain": [
       "[0, 2, 4, 6, 8, 10, 12, 14, 16, 18]"
      ]
     },
     "execution_count": 132,
     "metadata": {},
     "output_type": "execute_result"
    }
   ],
   "source": [
    "itz = iter(itl.count(0,2))\n",
    "[next(itz) for _ in range(10)]"
   ]
  },
  {
   "cell_type": "code",
   "execution_count": 133,
   "metadata": {},
   "outputs": [
    {
     "data": {
      "text/plain": [
       "20"
      ]
     },
     "execution_count": 133,
     "metadata": {},
     "output_type": "execute_result"
    }
   ],
   "source": [
    "next(itz)"
   ]
  },
  {
   "cell_type": "markdown",
   "metadata": {},
   "source": [
    "### <font color=red> itertools.cycle(iterable) <font>\n",
    "Make an iterator that drops elements from the iterable as long as the predicate is true <br>\n",
    "afterwards, returns every element. <br> \n",
    "Note, the iterator does not produce any output until the predicate first becomes false, so it may have a lengthy start-up time.<br>\n",
    "cycle creates an iterator object , dont indulge in a for loop with count directly <br>\n",
    "    \n",
    "#### These are infinite iterators "
   ]
  },
  {
   "cell_type": "code",
   "execution_count": 134,
   "metadata": {},
   "outputs": [],
   "source": [
    "def xxcycle(iterable):\n",
    "    saved = []\n",
    "    for element in iterable:\n",
    "        yield element\n",
    "        saved.append(element)\n",
    "    while saved:\n",
    "        for element in saved:\n",
    "              yield element"
   ]
  },
  {
   "cell_type": "markdown",
   "metadata": {},
   "source": [
    "#### Difference between iterable object and iterator object\n",
    "| Iterable Object | Iterator Object |\n",
    "| --------------- | --------------- | \n",
    "| Iterator methods works on this object (used as parameter to many itertools methods) | After working on iterable objects , the end result is iterator object |\n",
    "| Iterable objects has __iter__ methods and they dont have __next__ method | Iterator objects has __next__ methods and they dont have __iter__ method |    \n",
    "| example lists , dictionary , tuples | example end result of iter(any iterable object) , yield output (generator) |"
   ]
  },
  {
   "cell_type": "code",
   "execution_count": 135,
   "metadata": {},
   "outputs": [],
   "source": [
    "itz = itl.cycle('ABCD')"
   ]
  },
  {
   "cell_type": "code",
   "execution_count": 136,
   "metadata": {},
   "outputs": [
    {
     "data": {
      "text/plain": [
       "'A'"
      ]
     },
     "execution_count": 136,
     "metadata": {},
     "output_type": "execute_result"
    }
   ],
   "source": [
    "next(itz)"
   ]
  },
  {
   "cell_type": "code",
   "execution_count": 137,
   "metadata": {},
   "outputs": [
    {
     "data": {
      "text/plain": [
       "'B'"
      ]
     },
     "execution_count": 137,
     "metadata": {},
     "output_type": "execute_result"
    }
   ],
   "source": [
    "# we will do next again \n",
    "next(itz)"
   ]
  },
  {
   "cell_type": "code",
   "execution_count": 138,
   "metadata": {},
   "outputs": [
    {
     "name": "stdout",
     "output_type": "stream",
     "text": [
      "[11, 12, 13, 11, 12, 13, 11, 12, 13, 11]\n"
     ]
    }
   ],
   "source": [
    "test2 = itl.cycle([11,12,13])\n",
    "print([next(test2) for _ in range(10)])"
   ]
  },
  {
   "cell_type": "markdown",
   "metadata": {},
   "source": [
    "### <font color=red> itertools.repeat(object[, times]) <font>\n",
    "Make an iterator that returns object over and over again.<br> \n",
    "Runs indefinitely unless the times argument is specified. <br> \n",
    "Used as argument to map() for invariant parameters to the called function. <br>\n",
    "Also used with zip() to create an invariant part of a tuple record.\n",
    "    \n",
    "#### These are infinite iterators "
   ]
  },
  {
   "cell_type": "code",
   "execution_count": 139,
   "metadata": {},
   "outputs": [
    {
     "data": {
      "text/plain": [
       "[0, 1, 4, 9, 16, 25, 36, 49, 64, 81]"
      ]
     },
     "execution_count": 139,
     "metadata": {},
     "output_type": "execute_result"
    }
   ],
   "source": [
    "list(map(pow, range(10), itl.repeat(2)))"
   ]
  },
  {
   "cell_type": "code",
   "execution_count": 140,
   "metadata": {},
   "outputs": [
    {
     "data": {
      "text/plain": [
       "[2, 2, 2, 2]"
      ]
     },
     "execution_count": 140,
     "metadata": {},
     "output_type": "execute_result"
    }
   ],
   "source": [
    "list(itl.repeat(2,4))"
   ]
  },
  {
   "cell_type": "markdown",
   "metadata": {},
   "source": [
    "### <font color=red> itertools.dropwhile(predicate, iterable) <font>\n",
    "Make an iterator that drops elements from the iterable as long as the predicate is true; <br>\n",
    "afterwards, returns every element. <br>\n",
    "Note, the iterator does not produce any output until the predicate first becomes false, so it may have a lengthy start-up time. <br> "
   ]
  },
  {
   "cell_type": "code",
   "execution_count": 141,
   "metadata": {},
   "outputs": [],
   "source": [
    "def xxdropwhile(predicate, iterable):\n",
    "    # dropwhile(lambda x: x<5, [1,4,6,4,1]) --> 6 4 1\n",
    "    iterable = iter(iterable)\n",
    "    for x in iterable:\n",
    "        if not predicate(x):\n",
    "            yield x\n",
    "            break\n",
    "    for x in iterable:\n",
    "        yield x"
   ]
  },
  {
   "cell_type": "code",
   "execution_count": 142,
   "metadata": {},
   "outputs": [
    {
     "name": "stdout",
     "output_type": "stream",
     "text": [
      "[5, 7, 10]\n"
     ]
    }
   ],
   "source": [
    "li = [2, 4, 5, 7, 10] \n",
    "print(list(itl.dropwhile(lambda x : x % 2 == 0, li))) "
   ]
  },
  {
   "cell_type": "code",
   "execution_count": 143,
   "metadata": {},
   "outputs": [
    {
     "data": {
      "text/plain": [
       "[1, 2, 3, 4, 5]"
      ]
     },
     "execution_count": 143,
     "metadata": {},
     "output_type": "execute_result"
    }
   ],
   "source": [
    "list(itl.dropwhile(lambda x:x**2>10, [1,2,3,4,5]))"
   ]
  },
  {
   "cell_type": "markdown",
   "metadata": {},
   "source": [
    "### <font color=red> itertools.filterfalse(predicate, iterable) <font>\n",
    "Make an iterator that filters elements from iterable returning only those for which the predicate is False"
   ]
  },
  {
   "cell_type": "code",
   "execution_count": 144,
   "metadata": {},
   "outputs": [
    {
     "data": {
      "text/plain": [
       "[1, 2]"
      ]
     },
     "execution_count": 144,
     "metadata": {},
     "output_type": "execute_result"
    }
   ],
   "source": [
    "list(itl.filterfalse(lambda x:x>2,[1,2,3,4,5]))"
   ]
  },
  {
   "cell_type": "markdown",
   "metadata": {},
   "source": [
    "### <font color=red> itertools.groupby(iterable, key=None) <font>\n",
    "Make an iterator that returns consecutive keys and groups from the iterable.<br>\n",
    "The key is a function computing a key value for each element. <br>\n",
    "If not specified or is None, key defaults to an identity function and returns the element unchanged. <br>\n",
    "Generally, the iterable needs to already be sorted on the same key function."
   ]
  },
  {
   "cell_type": "code",
   "execution_count": 145,
   "metadata": {},
   "outputs": [
    {
     "name": "stdout",
     "output_type": "stream",
     "text": [
      "{'Animal': [('Animal', 'cat'), ('Animal', 'dog')]}\n",
      "{'Bird': [('Bird', 'peacock'), ('Bird', 'pigeon')]}\n"
     ]
    }
   ],
   "source": [
    "a_list = [(\"Animal\", \"cat\"), \n",
    "          (\"Animal\", \"dog\"), \n",
    "          (\"Bird\", \"peacock\"), \n",
    "          (\"Bird\", \"pigeon\")]\n",
    "an_iterator = itl.groupby(a_list, lambda x : x[0])\n",
    "  \n",
    "for key, group in an_iterator:\n",
    "    key_and_group = {key : list(group)}\n",
    "    print(key_and_group)"
   ]
  },
  {
   "cell_type": "markdown",
   "metadata": {},
   "source": [
    "A. Group consecutive items together <br>\n",
    "B. Group all occurrences of an item, given a sorted iterable <br>\n",
    "C. Specify how to group items with a key function <br>"
   ]
  },
  {
   "cell_type": "code",
   "execution_count": 146,
   "metadata": {},
   "outputs": [
    {
     "data": {
      "text/plain": [
       "['A', 'B', 'C', 'D', 'A', 'B']"
      ]
     },
     "execution_count": 146,
     "metadata": {},
     "output_type": "execute_result"
    }
   ],
   "source": [
    "[k for k, g in itl.groupby('AAAABBBCCDAABBB')]"
   ]
  },
  {
   "cell_type": "code",
   "execution_count": 147,
   "metadata": {},
   "outputs": [
    {
     "data": {
      "text/plain": [
       "[['A', 'A', 'A', 'A'], ['B', 'B', 'B'], ['C', 'C'], ['D']]"
      ]
     },
     "execution_count": 147,
     "metadata": {},
     "output_type": "execute_result"
    }
   ],
   "source": [
    "[list(g) for k, g in itl.groupby('AAAABBBCCD')]"
   ]
  },
  {
   "cell_type": "code",
   "execution_count": 148,
   "metadata": {},
   "outputs": [
    {
     "name": "stdout",
     "output_type": "stream",
     "text": [
      "C\n",
      "{'mark': '65', 'grade': 'C'}\n",
      "A\n",
      "{'mark': '86', 'grade': 'A'}\n",
      "B\n",
      "{'mark': '73', 'grade': 'B'}\n",
      "D\n",
      "{'mark': '49', 'grade': 'D'}\n",
      "A\n",
      "{'mark': '91', 'grade': 'A'}\n",
      "B\n",
      "{'mark': '79', 'grade': 'B'}\n"
     ]
    }
   ],
   "source": [
    "students = [\n",
    "    {'mark': '65','grade': 'C'},\n",
    "    {'mark': '86','grade': 'A'},\n",
    "    {'mark': '73','grade': 'B'},\n",
    "    {'mark': '49','grade': 'D'},\n",
    "    {'mark': '91','grade': 'A'},\n",
    "    {'mark': '79','grade': 'B'}\n",
    "]\n",
    "for key, value in itl.groupby(students,\n",
    "                          key = lambda x : x['grade']):\n",
    "    print(key)\n",
    "    for k in value:\n",
    "        print(k)"
   ]
  },
  {
   "cell_type": "code",
   "execution_count": 149,
   "metadata": {},
   "outputs": [
    {
     "name": "stdout",
     "output_type": "stream",
     "text": [
      "C\n",
      "{'mark': '65', 'grade': 'C'}\n",
      "A\n",
      "{'mark': '86', 'grade': 'A'}\n",
      "B\n",
      "{'mark': '73', 'grade': 'B'}\n",
      "D\n",
      "{'mark': '49', 'grade': 'D'}\n",
      "A\n",
      "{'mark': '91', 'grade': 'A'}\n",
      "B\n",
      "{'mark': '79', 'grade': 'B'}\n"
     ]
    }
   ],
   "source": [
    "# Now using itemgetter \n",
    "from operator import itemgetter\n",
    "for key, value in itl.groupby(students,\n",
    "                          key = itemgetter('grade')):\n",
    "    print(key)\n",
    "    for k in value:\n",
    "        print(k)"
   ]
  },
  {
   "cell_type": "code",
   "execution_count": 150,
   "metadata": {},
   "outputs": [
    {
     "name": "stdout",
     "output_type": "stream",
     "text": [
      "2008-04 [{'date': '2008-04-23', 'value': '1'}, {'date': '2008-04-01', 'value': '8'}, {'date': '2008-04-05', 'value': '3'}]\n",
      "2009-04 [{'date': '2009-04-19', 'value': '5'}, {'date': '2009-04-21', 'value': '8'}]\n",
      "2010-09 [{'date': '2010-09-09', 'value': '3'}, {'date': '2010-09-10', 'value': '4'}]\n"
     ]
    }
   ],
   "source": [
    "lst = [{'date':'2008-04-23','value':'1'},\n",
    "{'date':'2008-04-01','value':'8'},\n",
    "{'date':'2008-04-05','value':'3'},\n",
    "{'date':'2009-04-19','value':'5'},\n",
    "{'date':'2009-04-21','value':'8'},\n",
    "{'date':'2010-09-09','value':'3'},\n",
    "{'date':'2010-09-10','value':'4'}]\n",
    "\n",
    "for k,v in itl.groupby(lst,key=lambda x:x['date'][:7]):\n",
    "    print (k, list(v))"
   ]
  },
  {
   "cell_type": "markdown",
   "metadata": {},
   "source": [
    "### <font color=red> itertools.islice(iterable, start, stop[, step]) <font>\n",
    "Make an iterator that returns selected elements from the iterable. <br>\n",
    "If start is non-zero, then elements from the iterable are skipped until start is reached. <br>\n",
    "Afterward, elements are returned consecutively unless step is set higher than one which results in items being skipped. <br>\n",
    "If stop is None, then iteration continues until the iterator is exhausted, <br>\n",
    "if at all; otherwise, it stops at the specified position. Unlike regular slicing, islice() does not support negative values for start, stop, or step."
   ]
  },
  {
   "cell_type": "code",
   "execution_count": 151,
   "metadata": {},
   "outputs": [
    {
     "name": "stdout",
     "output_type": "stream",
     "text": [
      "[4, 7, 10]\n"
     ]
    }
   ],
   "source": [
    "li = [2, 4, 5, 7, 8, 10, 20] \n",
    "print(list(itl.islice(li, 1, 6, 2)))"
   ]
  },
  {
   "cell_type": "code",
   "execution_count": 152,
   "metadata": {},
   "outputs": [
    {
     "data": {
      "text/plain": [
       "[4, 9, 16]"
      ]
     },
     "execution_count": 152,
     "metadata": {},
     "output_type": "execute_result"
    }
   ],
   "source": [
    "iterator = (x**2 for x in range(10))\n",
    "list(itl.islice(iterator, 2, 5))"
   ]
  },
  {
   "cell_type": "code",
   "execution_count": 153,
   "metadata": {},
   "outputs": [
    {
     "data": {
      "text/plain": [
       "[25, 36, 49, 64, 81]"
      ]
     },
     "execution_count": 153,
     "metadata": {},
     "output_type": "execute_result"
    }
   ],
   "source": [
    "list(iterator)"
   ]
  },
  {
   "cell_type": "code",
   "execution_count": 154,
   "metadata": {},
   "outputs": [
    {
     "data": {
      "text/plain": [
       "[2, 4, 5, 7, 8, 10, 20]"
      ]
     },
     "execution_count": 154,
     "metadata": {},
     "output_type": "execute_result"
    }
   ],
   "source": [
    "#this us clearly incorrect \n",
    "li"
   ]
  },
  {
   "cell_type": "code",
   "execution_count": 155,
   "metadata": {},
   "outputs": [
    {
     "data": {
      "text/plain": [
       "[5]"
      ]
     },
     "execution_count": 155,
     "metadata": {},
     "output_type": "execute_result"
    }
   ],
   "source": [
    "li[2:3]"
   ]
  },
  {
   "cell_type": "markdown",
   "metadata": {},
   "source": [
    "### <font color=red> itertools.permutations(iterable, r=None) <font>\n",
    "Return successive r length permutations of elements in the iterable.<br>\n",
    "\n",
    "If r is not specified or is None, then r defaults to the length of the iterable and all possible full-length permutations are generated."
   ]
  },
  {
   "cell_type": "code",
   "execution_count": 156,
   "metadata": {},
   "outputs": [
    {
     "data": {
      "text/plain": [
       "[('A', 'B'),\n",
       " ('A', 'C'),\n",
       " ('A', 'D'),\n",
       " ('B', 'A'),\n",
       " ('B', 'C'),\n",
       " ('B', 'D'),\n",
       " ('C', 'A'),\n",
       " ('C', 'B'),\n",
       " ('C', 'D'),\n",
       " ('D', 'A'),\n",
       " ('D', 'B'),\n",
       " ('D', 'C')]"
      ]
     },
     "execution_count": 156,
     "metadata": {},
     "output_type": "execute_result"
    }
   ],
   "source": [
    "list(itl.permutations('ABCD',2))"
   ]
  },
  {
   "cell_type": "code",
   "execution_count": 157,
   "metadata": {},
   "outputs": [
    {
     "data": {
      "text/plain": [
       "[('A', 'B', 'C', 'D'),\n",
       " ('A', 'B', 'D', 'C'),\n",
       " ('A', 'C', 'B', 'D'),\n",
       " ('A', 'C', 'D', 'B'),\n",
       " ('A', 'D', 'B', 'C'),\n",
       " ('A', 'D', 'C', 'B'),\n",
       " ('B', 'A', 'C', 'D'),\n",
       " ('B', 'A', 'D', 'C'),\n",
       " ('B', 'C', 'A', 'D'),\n",
       " ('B', 'C', 'D', 'A'),\n",
       " ('B', 'D', 'A', 'C'),\n",
       " ('B', 'D', 'C', 'A'),\n",
       " ('C', 'A', 'B', 'D'),\n",
       " ('C', 'A', 'D', 'B'),\n",
       " ('C', 'B', 'A', 'D'),\n",
       " ('C', 'B', 'D', 'A'),\n",
       " ('C', 'D', 'A', 'B'),\n",
       " ('C', 'D', 'B', 'A'),\n",
       " ('D', 'A', 'B', 'C'),\n",
       " ('D', 'A', 'C', 'B'),\n",
       " ('D', 'B', 'A', 'C'),\n",
       " ('D', 'B', 'C', 'A'),\n",
       " ('D', 'C', 'A', 'B'),\n",
       " ('D', 'C', 'B', 'A')]"
      ]
     },
     "execution_count": 157,
     "metadata": {},
     "output_type": "execute_result"
    }
   ],
   "source": [
    "list(itl.permutations('ABCD'))"
   ]
  },
  {
   "cell_type": "code",
   "execution_count": 158,
   "metadata": {},
   "outputs": [
    {
     "data": {
      "text/plain": [
       "['1234',\n",
       " '1243',\n",
       " '1324',\n",
       " '1342',\n",
       " '1423',\n",
       " '1432',\n",
       " '2134',\n",
       " '2143',\n",
       " '2314',\n",
       " '2341',\n",
       " '2413',\n",
       " '2431',\n",
       " '3124',\n",
       " '3142',\n",
       " '3214',\n",
       " '3241',\n",
       " '3412',\n",
       " '3421',\n",
       " '4123',\n",
       " '4132',\n",
       " '4213',\n",
       " '4231',\n",
       " '4312',\n",
       " '4321']"
      ]
     },
     "execution_count": 158,
     "metadata": {},
     "output_type": "execute_result"
    }
   ],
   "source": [
    "list(map(\"\".join, itl.permutations('1234')))"
   ]
  },
  {
   "cell_type": "markdown",
   "metadata": {},
   "source": [
    "### <font color=red> itertools.product(*iterables, repeat=1) <font>\n",
    "In the terms of Mathematics Cartesian Product of two sets is defined as the set of all ordered pairs (a, b) where a belongs to A and b belongs to B\n",
    "<ol>\n",
    "<li>itertools.product(*iterables, repeat=1):\n",
    "It returns the cartesian product of the provided iterable with itself for the number of times specified by the optional keyword “repeat”. For example, product(arr, repeat=3) means the same as product(arr, arr, arr)\n",
    "</li>\n",
    "<li>itertools.product(*iterables):\n",
    "It returns the cartesian product of all the iterable provided as the argument. For example, product(arr1, arr2, arr3).\n",
    "</li>    \n",
    "</ol>"
   ]
  },
  {
   "cell_type": "code",
   "execution_count": 159,
   "metadata": {},
   "outputs": [
    {
     "name": "stdout",
     "output_type": "stream",
     "text": [
      "[(1, 5), (1, 6), (1, 7), (2, 5), (2, 6), (2, 7), (3, 5), (3, 6), (3, 7)]\n"
     ]
    }
   ],
   "source": [
    "arr1 = [1, 2, 3]\n",
    "arr2 = [5, 6, 7]\n",
    "print(list(itl.product(arr1, arr2)))"
   ]
  },
  {
   "cell_type": "markdown",
   "metadata": {},
   "source": [
    "### <font color=red> itertools.starmap(function, iterable) <font>"
   ]
  },
  {
   "cell_type": "code",
   "execution_count": 160,
   "metadata": {},
   "outputs": [
    {
     "data": {
      "text/plain": [
       "[5, 4, 10, 8, 11, 9]"
      ]
     },
     "execution_count": 160,
     "metadata": {},
     "output_type": "execute_result"
    }
   ],
   "source": [
    "\n",
    "li =[(2, 3), (3, 1), (4, 6), (5, 3), (6, 5), (7, 2)]\n",
    " \n",
    "list(itl.starmap(lambda x, y:x + y, li))"
   ]
  },
  {
   "cell_type": "code",
   "execution_count": 161,
   "metadata": {},
   "outputs": [],
   "source": [
    "### This is because map wont work in iterable(iterable)  format "
   ]
  },
  {
   "cell_type": "markdown",
   "metadata": {},
   "source": [
    "### <font color=red> itertools.tee(iterable, n=2) <font>"
   ]
  },
  {
   "cell_type": "code",
   "execution_count": 162,
   "metadata": {},
   "outputs": [
    {
     "data": {
      "text/plain": [
       "[[2, 4, 6, 7, 8, 10, 20], [2, 4, 6, 7, 8, 10, 20], [2, 4, 6, 7, 8, 10, 20]]"
      ]
     },
     "execution_count": 162,
     "metadata": {},
     "output_type": "execute_result"
    }
   ],
   "source": [
    "li = [2, 4, 6, 7, 8, 10, 20] \n",
    "[list(i) for i in itl.tee(li, 3)]"
   ]
  },
  {
   "cell_type": "code",
   "execution_count": 163,
   "metadata": {},
   "outputs": [
    {
     "data": {
      "text/plain": [
       "[[2, 4, 6, 7, 8, 10, 20], [2, 4, 6, 7, 8, 10, 20], [2, 4, 6, 7, 8, 10, 20]]"
      ]
     },
     "execution_count": 163,
     "metadata": {},
     "output_type": "execute_result"
    }
   ],
   "source": [
    "li = [2, 4, 6, 7, 8, 10, 20] \n",
    "[list(i) for i in itl.tee(iter(li), 3)]"
   ]
  },
  {
   "cell_type": "markdown",
   "metadata": {},
   "source": [
    "### <font color=red> itertools.zip_longest(*iterables, fillvalue=None) <font> "
   ]
  },
  {
   "cell_type": "code",
   "execution_count": 164,
   "metadata": {},
   "outputs": [
    {
     "data": {
      "text/plain": [
       "[(1, 11), (2, 12), (3, 13)]"
      ]
     },
     "execution_count": 164,
     "metadata": {},
     "output_type": "execute_result"
    }
   ],
   "source": [
    "list(zip([1,2,3],(11,12,13,14)))"
   ]
  },
  {
   "cell_type": "code",
   "execution_count": 165,
   "metadata": {},
   "outputs": [
    {
     "data": {
      "text/plain": [
       "[(1, 11), (2, 12), (3, 13), ('*', 14)]"
      ]
     },
     "execution_count": 165,
     "metadata": {},
     "output_type": "execute_result"
    }
   ],
   "source": [
    "list(itl.zip_longest([1,2,3],(11,12,13,14),fillvalue='*'))"
   ]
  },
  {
   "cell_type": "markdown",
   "metadata": {},
   "source": [
    "### <font color=red> itertools.combinations(iterable, r) <font> "
   ]
  },
  {
   "cell_type": "code",
   "execution_count": 169,
   "metadata": {},
   "outputs": [],
   "source": [
    "letters =\"code\""
   ]
  },
  {
   "cell_type": "code",
   "execution_count": 171,
   "metadata": {},
   "outputs": [
    {
     "data": {
      "text/plain": [
       "['co', 'cd', 'ce', 'od', 'oe', 'de']"
      ]
     },
     "execution_count": 171,
     "metadata": {},
     "output_type": "execute_result"
    }
   ],
   "source": [
    "list(map(''.join,itl.combinations(letters, 2)))"
   ]
  },
  {
   "cell_type": "code",
   "execution_count": 172,
   "metadata": {},
   "outputs": [
    {
     "data": {
      "text/plain": [
       "['co', 'cd', 'ce', 'oc', 'od', 'oe', 'dc', 'do', 'de', 'ec', 'eo', 'ed']"
      ]
     },
     "execution_count": 172,
     "metadata": {},
     "output_type": "execute_result"
    }
   ],
   "source": [
    "list(map(''.join,itl.permutations(letters, 2)))"
   ]
  },
  {
   "cell_type": "code",
   "execution_count": 173,
   "metadata": {},
   "outputs": [
    {
     "data": {
      "text/plain": [
       "['cc', 'co', 'cd', 'ce', 'oo', 'od', 'oe', 'dd', 'de', 'ee']"
      ]
     },
     "execution_count": 173,
     "metadata": {},
     "output_type": "execute_result"
    }
   ],
   "source": [
    "list(map(''.join,itl.combinations_with_replacement(letters, 2)))"
   ]
  },
  {
   "cell_type": "code",
   "execution_count": null,
   "metadata": {},
   "outputs": [],
   "source": []
  }
 ],
 "metadata": {
  "kernelspec": {
   "display_name": "Python 3",
   "language": "python",
   "name": "python3"
  },
  "language_info": {
   "codemirror_mode": {
    "name": "ipython",
    "version": 3
   },
   "file_extension": ".py",
   "mimetype": "text/x-python",
   "name": "python",
   "nbconvert_exporter": "python",
   "pygments_lexer": "ipython3",
   "version": "3.8.3"
  }
 },
 "nbformat": 4,
 "nbformat_minor": 4
}
